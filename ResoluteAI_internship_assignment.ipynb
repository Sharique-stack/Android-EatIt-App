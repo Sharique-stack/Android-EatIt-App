{
  "nbformat": 4,
  "nbformat_minor": 0,
  "metadata": {
    "colab": {
      "name": "ResoluteAI internship assignment.ipynb",
      "provenance": [],
      "authorship_tag": "ABX9TyMyyi3IDY7616rFntPe13dk",
      "include_colab_link": true
    },
    "kernelspec": {
      "name": "python3",
      "display_name": "Python 3"
    },
    "language_info": {
      "name": "python"
    }
  },
  "cells": [
    {
      "cell_type": "markdown",
      "metadata": {
        "id": "view-in-github",
        "colab_type": "text"
      },
      "source": [
        "<a href=\"https://colab.research.google.com/github/Sharique-stack/Android-EatIt-App/blob/master/ResoluteAI_internship_assignment.ipynb\" target=\"_parent\"><img src=\"https://colab.research.google.com/assets/colab-badge.svg\" alt=\"Open In Colab\"/></a>"
      ]
    },
    {
      "cell_type": "code",
      "metadata": {
        "colab": {
          "base_uri": "https://localhost:8080/"
        },
        "id": "_MBdks-rIux8",
        "outputId": "94c64d05-ce77-4ef3-a33a-1111cec16599"
      },
      "source": [
        "from google.colab import drive\n",
        "import os\n",
        "drive.mount('/content/drive')\n",
        "os.chdir(\"/content/drive/My Drive/Colab Notebooks\")\n",
        "os.listdir()"
      ],
      "execution_count": 1,
      "outputs": [
        {
          "output_type": "stream",
          "name": "stdout",
          "text": [
            "Mounted at /content/drive\n"
          ]
        },
        {
          "output_type": "execute_result",
          "data": {
            "text/plain": [
              "['Copy of AITS Technical Assessment - round 2.ipynb',\n",
              " 'Untitled0.ipynb',\n",
              " 'Copy of week2-NER (3).ipynb',\n",
              " 'Untitled1.ipynb',\n",
              " 'Copy of Copy of week1-MultilabelClassification.ipynb',\n",
              " 'Copy of week2-NER (2).ipynb',\n",
              " 'Copy of week2-NER (1).ipynb',\n",
              " 'week2_final_NER.ipynb',\n",
              " 'week2_NER_with_LSTM.ipynb',\n",
              " 'week2-NER-Xue.ipynb',\n",
              " 'week2-NER.ipynb',\n",
              " 'Copy of week3-Embeddings.ipynb',\n",
              " 'Copy of week2-NER.ipynb',\n",
              " 'Copy of week1-MultilabelClassification.ipynb',\n",
              " 'Village_Amenities_for_Ahmadabad_District_of_Gujarat,_2011-537641.csv',\n",
              " 'Untitled2.ipynb',\n",
              " '1957 (Vol I).pdf',\n",
              " 'Untitled3.ipynb',\n",
              " 'Copy of Python in a Minute.ipynb',\n",
              " 'Copy of Introduction To Tensorflow.ipynb',\n",
              " 'Untitled4.ipynb',\n",
              " 'Copy of Data Science Illumu Internship.ipynb',\n",
              " 'tweets.json',\n",
              " 'data_file.csv',\n",
              " 'tweet.csv',\n",
              " 'Data Science Illumu Internship.ipynb',\n",
              " 'file.csv',\n",
              " 'Copy of Akaike NLP internship assignment.ipynb',\n",
              " 'Akaike NLP internship assignment.ipynb',\n",
              " 'f0EZN-converted.pdf',\n",
              " 'ResoluteAI internship assignment.ipynb']"
            ]
          },
          "metadata": {},
          "execution_count": 1
        }
      ]
    },
    {
      "cell_type": "code",
      "metadata": {
        "colab": {
          "base_uri": "https://localhost:8080/"
        },
        "id": "S1lZcogHJfzb",
        "outputId": "53af282f-c7e9-455a-e0e9-36fb47bb3bba"
      },
      "source": [
        "pip install PyPDF2"
      ],
      "execution_count": 23,
      "outputs": [
        {
          "output_type": "stream",
          "name": "stdout",
          "text": [
            "Collecting PyPDF2\n",
            "  Downloading PyPDF2-1.26.0.tar.gz (77 kB)\n",
            "\u001b[?25l\r\u001b[K     |████▎                           | 10 kB 23.6 MB/s eta 0:00:01\r\u001b[K     |████████▌                       | 20 kB 29.7 MB/s eta 0:00:01\r\u001b[K     |████████████▊                   | 30 kB 12.7 MB/s eta 0:00:01\r\u001b[K     |█████████████████               | 40 kB 9.6 MB/s eta 0:00:01\r\u001b[K     |█████████████████████▏          | 51 kB 4.4 MB/s eta 0:00:01\r\u001b[K     |█████████████████████████▍      | 61 kB 4.7 MB/s eta 0:00:01\r\u001b[K     |█████████████████████████████▋  | 71 kB 4.5 MB/s eta 0:00:01\r\u001b[K     |████████████████████████████████| 77 kB 2.7 MB/s \n",
            "\u001b[?25hBuilding wheels for collected packages: PyPDF2\n",
            "  Building wheel for PyPDF2 (setup.py) ... \u001b[?25l\u001b[?25hdone\n",
            "  Created wheel for PyPDF2: filename=PyPDF2-1.26.0-py3-none-any.whl size=61101 sha256=0fb6fb7606c1fce81639277f1a034976f8d62e2c4b05c9285085daa6a35d907a\n",
            "  Stored in directory: /root/.cache/pip/wheels/80/1a/24/648467ade3a77ed20f35cfd2badd32134e96dd25ca811e64b3\n",
            "Successfully built PyPDF2\n",
            "Installing collected packages: PyPDF2\n",
            "Successfully installed PyPDF2-1.26.0\n"
          ]
        }
      ]
    },
    {
      "cell_type": "code",
      "metadata": {
        "colab": {
          "base_uri": "https://localhost:8080/"
        },
        "id": "o6VmYTEWMMhu",
        "outputId": "528f9505-66b5-4d22-8199-dba36afb16f2"
      },
      "source": [
        "import PyPDF2 \n",
        "    \n",
        "# creating a pdf file object \n",
        "pdfFileObj = open('f0EZN-converted.pdf', 'rb') \n",
        "    \n",
        "# creating a pdf reader object \n",
        "pdfReader = PyPDF2.PdfFileReader(pdfFileObj) \n",
        "    \n",
        "# printing number of pages in pdf file \n",
        "print(pdfReader.numPages) \n",
        "    \n",
        "# creating a page object \n",
        "pageObj = pdfReader.getPage(0) \n",
        "    \n",
        "# extracting text from page \n",
        "print(pageObj.extractText()) \n",
        "    \n",
        "# closing the pdf file object \n",
        "pdfFileObj.close() "
      ],
      "execution_count": 24,
      "outputs": [
        {
          "output_type": "stream",
          "name": "stdout",
          "text": [
            "1\n",
            "\n"
          ]
        }
      ]
    },
    {
      "cell_type": "code",
      "metadata": {
        "id": "FW-OR7CuJgaN"
      },
      "source": [
        ""
      ],
      "execution_count": null,
      "outputs": []
    },
    {
      "cell_type": "markdown",
      "metadata": {
        "id": "EQD9wsRdJg7e"
      },
      "source": [
        ""
      ]
    }
  ]
}